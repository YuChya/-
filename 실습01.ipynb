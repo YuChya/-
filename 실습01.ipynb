import javax.imageio.*;

var mmgraph = """
graph LR;
    서울 --> 원주 --> 평창 --> 강릉
    원주 --> 안동
    서울 --> 천안 --> 대전 & 공주
    대전 --> 대구 --> 부산
    공주 --> 익산 --> 광주 --> 목포
    대전 --> 익산 --> 전주 --> 여수
""";

display(ImageIO.read(new URL("https://mermaid.ink/img/"+Base64.getEncoder().encodeToString(mmgraph.getBytes()))));

import java.util.ArrayList;
import java.util.HashMap;
import java.util.List;
import java.util.Map;

public class GraphExample {
    public static void main(String[] args) {
        // 여기에 Map과 List를 활용한 그래프의 인접 리스트 표현 작성
        Map<String, List<String>> routeMap = new HashMap<>();

        // 간선 추가
        addEdge(routeMap, "서울", "원주");
        addEdge(routeMap, "원주", "평창");
        addEdge(routeMap, "평창", "강릉");
        addEdge(routeMap, "원주", "안동");
        addEdge(routeMap, "서울", "천안");
        addEdge(routeMap, "천안", "대전");
        addEdge(routeMap, "천안", "공주");
        addEdge(routeMap, "대전", "대구");
        addEdge(routeMap, "대구", "부산");
        addEdge(routeMap, "공주", "익산");
        addEdge(routeMap, "익산", "광주");
        addEdge(routeMap, "광주", "목포");
        addEdge(routeMap, "대전", "익산");
        addEdge(routeMap, "익산", "전주");
        addEdge(routeMap, "전주", "여수");

        printRouteMap(routeMap);
    }


    private static void addEdge(Map<String, List<String>> routeMap, String from, String to) {
        routeMap.putIfAbsent(from, new ArrayList<>());
        routeMap.get(from).add(to);
    }


    private static void printRouteMap(Map<String, List<String>> routeMap) {
        for (Map.Entry<String, List<String>> entry : routeMap.entrySet()) {
            System.out.println(entry.getKey() + " --> " + entry.getValue());
        }
    }
}
